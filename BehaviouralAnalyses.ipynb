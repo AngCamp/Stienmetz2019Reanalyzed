{
 "cells": [
  {
   "cell_type": "markdown",
   "metadata": {},
   "source": [
    "The purpose of this script is to analyze the behaviour of the animals specifically looking for effects described\n",
    "in Lak et al., (2020) as well as Akrami et al., (2018).  Both publications show how previous reinforcement of correct trials results in the\n",
    "choice of a particular stimuli on hard trials.  We can easily train and estimate such effects for mice.\n",
    "In difficult trials mice tend to rely on previously reinforced decisions, this effect appears across a number of \n",
    "tasks in a variety of species (Lak et a., 2020).  Recent evidence is favored (Akrami et al., 2018) and \n",
    "behavioural states will fluctuate throughout a tasks run (Ashwood et al., 2020).  We can start with simpler analyses\n",
    "and move on to more complex models if we want to explore these effects in more detail.\n",
    "\n",
    "\n",
    "Lak, A., Hueske, E., Hirokawa, J., Masset, P., Ott, T., Urai, A. E., ... & Kepecs, A. (2020).\n",
    " Reinforcement biases subsequent perceptual decisions when confidence is low, a widespread \n",
    " behavioral phenomenon. ELife, 9, e49834.\n",
    "\n",
    "Akrami, A., Kopec, C. D., Diamond, M. E., & Brody, C. D. (2018).\n",
    " Posterior parietal cortex represents sensory history and mediates\n",
    " its effects on behaviour. Nature, 554(7692), 368-372.\n",
    "\n",
    " Espescially relevant is extended data 6 where they describe other models to the one they found was the best fit.\n",
    " https://www.nature.com/articles/nature25510/figures/10\n",
    "\n",
    "Hidden Markov model incorperation engagement and reinforcement bias on a trial by trial level:\n",
    "\n",
    "Ashwood, Z. C., Roy, N. A., Stone, I. R., Urai, A. E., Churchland, A. K., Pouget, A., & Pillow, J. W. (2022). \n",
    "Mice alternate between discrete strategies during perceptual decision-making. Nature Neuroscience, 25(2), 201-212.\n",
    "-this was done by the IBL so may be of most use to us"
   ]
  },
  {
   "cell_type": "code",
   "execution_count": 2,
   "metadata": {},
   "outputs": [],
   "source": [
    "#libraries\n",
    "import pandas as pd\n",
    "import numpy as np\n",
    "import os\n",
    "#import scikit.learn\n",
    "import KernelRegDraft as kreg\n",
    "import getSteinmetz2019data as stein\n",
    "\n",
    "#setting a filepath up\n",
    "# NINC_filepath = find this out\n",
    "# command to start python REPL in visual code is 'ctrl + r' then 'ctrl + p' \n",
    "anguslocal_filepath = os.fspath(r'C:\\Users\\angus\\Desktop\\SteinmetzLab\\9598406\\spikeAndBehavioralData\\allData')\n",
    "\n",
    "FILEPATH = anguslocal_filepath"
   ]
  },
  {
   "cell_type": "markdown",
   "metadata": {},
   "source": [
    " 1) LOOK FOR BIAS WITH A SIMPLE ANALYSIS\n",
    "Look for effect with linear model of engagement index and trial difficulty on bias"
   ]
  },
  {
   "cell_type": "code",
   "execution_count": 5,
   "metadata": {},
   "outputs": [
    {
     "name": "stdout",
     "output_type": "stream",
     "text": [
      "Hench_2017-06-17\n",
      "Richards_2017-11-02\n",
      "Moniz_2017-05-16\n",
      "Richards_2017-10-30\n",
      "Lederberg_2017-12-10\n",
      "Radnitz_2017-01-09\n",
      "Muller_2017-01-07\n",
      "Hench_2017-06-16\n",
      "Radnitz_2017-01-08\n",
      "Cori_2016-12-17\n",
      "Lederberg_2017-12-06\n",
      "Tatum_2017-12-07\n",
      "Cori_2016-12-14\n",
      "Hench_2017-06-15\n",
      "Tatum_2017-12-09\n",
      "Muller_2017-01-08\n",
      "Tatum_2017-12-06\n",
      "Lederberg_2017-12-09\n",
      "Lederberg_2017-12-11\n",
      "Lederberg_2017-12-08\n",
      "Richards_2017-10-31\n",
      "Theiler_2017-10-11\n",
      "Forssmann_2017-11-04\n",
      "Richards_2017-10-29\n",
      "Forssmann_2017-11-05\n",
      "Forssmann_2017-11-02\n",
      "Cori_2016-12-18\n",
      "Muller_2017-01-09\n",
      "Radnitz_2017-01-11\n",
      "Lederberg_2017-12-07\n",
      "Moniz_2017-05-15\n",
      "Richards_2017-11-01\n",
      "Radnitz_2017-01-12\n",
      "Tatum_2017-12-08\n",
      "Forssmann_2017-11-01\n",
      "Radnitz_2017-01-10\n",
      "Hench_2017-06-18\n"
     ]
    }
   ],
   "source": [
    "for rcrdng in stein.recording_key():\n",
    "    print(rcrdng)\n",
    "    \n",
    "\n",
    "\n"
   ]
  },
  {
   "cell_type": "markdown",
   "metadata": {},
   "source": [
    "2) TRIAL HISTORY EFFECTS\n",
    "Akrami model"
   ]
  },
  {
   "cell_type": "code",
   "execution_count": null,
   "metadata": {},
   "outputs": [],
   "source": []
  },
  {
   "cell_type": "markdown",
   "metadata": {},
   "source": [
    "3) TRIAL BY TRIAL PREDICTION OF THESE STRATEGIES\n",
    " A) for removal and focusing on engaged trials\n",
    " B) for "
   ]
  },
  {
   "cell_type": "code",
   "execution_count": null,
   "metadata": {},
   "outputs": [],
   "source": []
  }
 ],
 "metadata": {
  "interpreter": {
   "hash": "8d48a6c1d48d8fcde04d41125374fdb3f46c9eef44d7cc19f9533ad37b652f51"
  },
  "kernelspec": {
   "display_name": "Python 3.9.1 64-bit",
   "language": "python",
   "name": "python3"
  },
  "language_info": {
   "codemirror_mode": {
    "name": "ipython",
    "version": 3
   },
   "file_extension": ".py",
   "mimetype": "text/x-python",
   "name": "python",
   "nbconvert_exporter": "python",
   "pygments_lexer": "ipython3",
   "version": "3.9.1"
  },
  "orig_nbformat": 4
 },
 "nbformat": 4,
 "nbformat_minor": 2
}
