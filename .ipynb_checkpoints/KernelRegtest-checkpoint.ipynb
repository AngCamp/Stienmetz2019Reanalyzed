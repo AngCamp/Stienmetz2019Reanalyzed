{
 "cells": [
  {
   "cell_type": "code",
   "execution_count": 1,
   "id": "8ee7bcc4-115a-4a1c-85f4-90a71886bdc7",
   "metadata": {},
   "outputs": [],
   "source": [
    "\n",
    "# %%\n",
    "from distutils.command.build_scripts import first_line_re\n",
    "import os\n",
    "import numpy as np\n",
    "import pandas as pd\n",
    "from math import ceil\n",
    "from math import floor\n",
    "import scipy.ndimage\n",
    "import timeit #for testing and tracking run times\n",
    "import scipy.stats \n",
    "import getSteinmetz2019data as stein\n",
    "import warnings\n",
    "import sklearn\n",
    "\n",
    "# %%\n",
    "import KernelRegDraft as kreg\n",
    "import piso\n",
    "\n",
    "#setting path to the data\n",
    "path_to_data = os.path.relpath('/mnt/c/Users/angus/Desktop/SteinmetzLab/9598406/spikeAndBehavioralData/allData/')"
   ]
  },
  {
   "cell_type": "code",
   "execution_count": 2,
   "id": "a754466f-63ae-494c-9390-b9ec8135dedd",
   "metadata": {},
   "outputs": [
    {
     "data": {
      "text/plain": [
       "'C:\\\\Users\\\\angus\\\\Desktop\\\\SteinmetzLab\\\\Analysis'"
      ]
     },
     "execution_count": 2,
     "metadata": {},
     "output_type": "execute_result"
    }
   ],
   "source": [
    "pwd"
   ]
  },
  {
   "cell_type": "code",
   "execution_count": 30,
   "id": "f7753623-3df5-49dd-9a40-d177b573fd9d",
   "metadata": {},
   "outputs": [],
   "source": [
    "#setting path to the data\n",
    "path_to_data = os.path.relpath('/mnt/c/Users/angus/Desktop/SteinmetzLab/9598406/spikeAndBehavioralData/allData/')"
   ]
  },
  {
   "cell_type": "code",
   "execution_count": 2,
   "id": "7073df1d-b3a2-41c6-808f-dd33293c01d3",
   "metadata": {},
   "outputs": [
    {
     "name": "stdout",
     "output_type": "stream",
     "text": [
      "-2.1400001060101204e-05\n"
     ]
    }
   ],
   "source": [
    "start = timeit.timeit()\n",
    "#These trials selected because they contain all types of choices, left 2 rights then a no go\n",
    "# [4,5,6,7]\n",
    "\n",
    "#test this fucntion out\n",
    "#note steinmetz mthods uses P and X interchanably so\n",
    "# I thought ti would be appropriate here\n",
    "\n",
    "P = kreg.make_toeplitz_matrix(session = 'Theiler_2017-10-11', \n",
    "                     bin_size = 0.005, \n",
    "                     kernels = [True, True, True],\n",
    "                     select_trials=np.array([4,5,6,7]),\n",
    "                     FILEPATH = path_to_data\n",
    "                             )\n",
    "\n",
    "\n",
    "end= timeit.timeit()\n",
    "print(start-end)\n",
    "# %%"
   ]
  },
  {
   "cell_type": "code",
   "execution_count": 4,
   "id": "aaa6e310-1d55-4b88-814e-48305049682b",
   "metadata": {},
   "outputs": [],
   "source": [
    "angus_localpath = os.fspath(r'C:\\Users\\angus\\Desktop\\SteinmetzLab\\9598406\\spikeAndBehavioralData\\allData')\n",
    "import KernelRegDraft as kreg\n",
    "fetched_obj = stein.calldata('Theiler_2017-10-11',\n",
    "                                    ['wheelMoves.intervals.npy',\n",
    "                                    'licks.times.npy'],\n",
    "                                    steinmetzpath = path_to_data)\n",
    "\n",
    "movesintervals = fetched_obj['wheelMovesintervals']\n",
    "lickstimes = fetched_obj['lickstimes']\n",
    "\n",
    "kreg.combine_intervals\n",
    "\n",
    "licksintervals = kreg.generate_event_interval(lickstimes, [-0.025,0.025])"
   ]
  },
  {
   "cell_type": "code",
   "execution_count": 3,
   "id": "ae525041-f183-42d3-a852-702554dd132e",
   "metadata": {},
   "outputs": [
    {
     "ename": "NameError",
     "evalue": "name 'piso' is not defined",
     "output_type": "error",
     "traceback": [
      "\u001b[0;31m---------------------------------------------------------------------------\u001b[0m",
      "\u001b[0;31mNameError\u001b[0m                                 Traceback (most recent call last)",
      "Input \u001b[0;32mIn [3]\u001b[0m, in \u001b[0;36m<cell line: 14>\u001b[0;34m()\u001b[0m\n\u001b[1;32m     11\u001b[0m kreg\u001b[38;5;241m.\u001b[39mcombine_intervals\n\u001b[1;32m     13\u001b[0m licksintervals \u001b[38;5;241m=\u001b[39m kreg\u001b[38;5;241m.\u001b[39mgenerate_event_interval(lickstimes, [\u001b[38;5;241m-\u001b[39m\u001b[38;5;241m0.025\u001b[39m,\u001b[38;5;241m0.025\u001b[39m])\n\u001b[0;32m---> 14\u001b[0m test \u001b[38;5;241m=\u001b[39m \u001b[43mkreg\u001b[49m\u001b[38;5;241;43m.\u001b[39;49m\u001b[43mcombine_intervals\u001b[49m\u001b[43m(\u001b[49m\u001b[43mlicksintervals\u001b[49m\u001b[43m,\u001b[49m\u001b[43m \u001b[49m\u001b[43mmovesintervals\u001b[49m\u001b[43m)\u001b[49m\n\u001b[1;32m     15\u001b[0m test\n",
      "File \u001b[0;32m/mnt/c/Users/angus/Desktop/SteinmetzLab/Analysis/KernelRegDraft.py:613\u001b[0m, in \u001b[0;36mcombine_intervals\u001b[0;34m(intervals_x, intervals_y)\u001b[0m\n\u001b[1;32m    608\u001b[0m combined_intervals \u001b[38;5;241m=\u001b[39m pd\u001b[38;5;241m.\u001b[39marrays\u001b[38;5;241m.\u001b[39mIntervalArray\u001b[38;5;241m.\u001b[39mfrom_arrays(left \u001b[38;5;241m=\u001b[39m combined_intervals[:,\u001b[38;5;241m0\u001b[39m],\n\u001b[1;32m    609\u001b[0m                                                          right \u001b[38;5;241m=\u001b[39m combined_intervals[:,\u001b[38;5;241m1\u001b[39m],\n\u001b[1;32m    610\u001b[0m                                                          closed \u001b[38;5;241m=\u001b[39m \u001b[38;5;124m'\u001b[39m\u001b[38;5;124mleft\u001b[39m\u001b[38;5;124m'\u001b[39m)\n\u001b[1;32m    612\u001b[0m \u001b[38;5;66;03m#run a union operation from piso on the array, change them to being all open and make them into an array of tuples\u001b[39;00m\n\u001b[0;32m--> 613\u001b[0m combined_intervals \u001b[38;5;241m=\u001b[39m \u001b[43mpiso\u001b[49m\u001b[38;5;241m.\u001b[39munion(combined_intervals)\n\u001b[1;32m    614\u001b[0m combined_intervals \u001b[38;5;241m=\u001b[39m combined_intervals\u001b[38;5;241m.\u001b[39mset_closed(\u001b[38;5;124m'\u001b[39m\u001b[38;5;124mneither\u001b[39m\u001b[38;5;124m'\u001b[39m)\n\u001b[1;32m    615\u001b[0m combined_intervals \u001b[38;5;241m=\u001b[39m combined_intervals\u001b[38;5;241m.\u001b[39mto_tuples()\n",
      "\u001b[0;31mNameError\u001b[0m: name 'piso' is not defined"
     ]
    }
   ],
   "source": [
    "test = kreg.combine_intervals(licksintervals, movesintervals)\n",
    "test"
   ]
  },
  {
   "cell_type": "code",
   "execution_count": 5,
   "id": "0cac9edd-233a-4cf5-bd25-b02abf109505",
   "metadata": {},
   "outputs": [
    {
     "data": {
      "text/plain": [
       "<IntervalArray>\n",
       "[(54.3819796580109, 54.431979658010896], (80.24597955517656, 80.72097955517657], (81.38497955517656, 82.11397955517657], (85.49197955517656, 85.91597955517656], (92.16497955517656, 92.23997955517656] ... (3186.1259795551764, 3186.2959795551765], (3186.7889795551764, 3190.365979555176], (3194.2049795551766, 3194.8629795551765], (3200.7489795551764, 3202.7509795551764], (3209.8699795551765, 3211.5859795551764]]\n",
       "Length: 3025, dtype: interval[float64, right]"
      ]
     },
     "execution_count": 5,
     "metadata": {},
     "output_type": "execute_result"
    }
   ],
   "source": [
    "movement_intervals =  np.row_stack([licksintervals, movesintervals])\n",
    "movement_intervals = pd.arrays.IntervalArray.from_arrays(left = movement_intervals[:,0],\n",
    "                                                         right = movement_intervals[:,1],\n",
    "                                                         closed = 'right')\n",
    "\n",
    "#test = movement_intervals\n",
    "piso.union(movement_intervals)"
   ]
  },
  {
   "cell_type": "code",
   "execution_count": 56,
   "id": "0affe4ab-77c5-4907-98ed-b6d90deef1d2",
   "metadata": {},
   "outputs": [
    {
     "name": "stdout",
     "output_type": "stream",
     "text": [
      "3697\n"
     ]
    },
    {
     "data": {
      "text/plain": [
       "<IntervalArray>\n",
       "[[54.3819796580109, 54.431979658010896), [80.24597955517656, 80.72097955517657), [81.38497955517656, 82.11397955517657), [85.49197955517656, 85.91597955517656), [92.16497955517656, 92.23997955517656) ... [3186.1259795551764, 3186.2959795551765), [3186.7889795551764, 3190.365979555176), [3194.2049795551766, 3194.8629795551765), [3200.7489795551764, 3202.7509795551764), [3209.8699795551765, 3211.5859795551764)]\n",
       "Length: 3025, dtype: interval[float64, left]"
      ]
     },
     "execution_count": 56,
     "metadata": {},
     "output_type": "execute_result"
    }
   ],
   "source": [
    "movement_intervals =  np.row_stack([licksintervals, movesintervals])\n",
    "movement_intervals = pd.arrays.IntervalArray.from_arrays(left = movement_intervals[:,0],\n",
    "                                                         right = movement_intervals[:,1],\n",
    "                                                         closed = 'left')\n",
    "print(len(movement_intervals))\n",
    "\n",
    "#test = movement_intervals\n",
    "movement_intervals = piso.union(movement_intervals)\n",
    "movement_intervals"
   ]
  },
  {
   "cell_type": "code",
   "execution_count": 42,
   "id": "55c64a7d-da81-4270-9a6d-d71a56e2a5ff",
   "metadata": {},
   "outputs": [
    {
     "data": {
      "text/plain": [
       "<IntervalArray>\n",
       "[(54.3819796580109, 54.431979658010896), (80.24597955517656, 80.72097955517657), (81.38497955517656, 82.11397955517657), (85.49197955517656, 85.91597955517656), (92.16497955517656, 92.23997955517656) ... (3186.1259795551764, 3186.2959795551765), (3186.7889795551764, 3190.365979555176), (3194.2049795551766, 3194.8629795551765), (3200.7489795551764, 3202.7509795551764), (3209.8699795551765, 3211.5859795551764)]\n",
       "Length: 3025, dtype: interval[float64, neither]"
      ]
     },
     "execution_count": 42,
     "metadata": {},
     "output_type": "execute_result"
    }
   ],
   "source": [
    "movement_intervals.set_closed('neither')"
   ]
  },
  {
   "cell_type": "code",
   "execution_count": 57,
   "id": "d52ed58b-f203-445b-9555-30ce2f8c2b6d",
   "metadata": {},
   "outputs": [
    {
     "data": {
      "text/plain": [
       "(3025, 2)"
      ]
     },
     "execution_count": 57,
     "metadata": {},
     "output_type": "execute_result"
    }
   ],
   "source": [
    "movement_intervals = movement_intervals.set_closed('neither')\n",
    "#list_of_tuples  = list_of_tuples.to_tuples\n",
    "movement_intervals  = movement_intervals.to_tuples()\n",
    "#type(list_of_tuples)\n",
    "movement_intervals = [list(x) for x in movement_intervals]\n",
    "test = np.array(movement_intervals)\n",
    "test.shape\n",
    "#licksintervals\n",
    "#movement_intervals = row_stack( np.as_array(X), np.as_array(Y) )"
   ]
  },
  {
   "cell_type": "code",
   "execution_count": 3,
   "id": "6ee42635-4deb-4263-98dc-fd864ff29f73",
   "metadata": {},
   "outputs": [
    {
     "ename": "SyntaxError",
     "evalue": "invalid syntax (3417460924.py, line 92)",
     "output_type": "error",
     "traceback": [
      "\u001b[0;36m  Input \u001b[0;32mIn [3]\u001b[0;36m\u001b[0m\n\u001b[0;31m    in_bounds = (t =< len(interval_x) ) | (t =< len(interval_y) )\u001b[0m\n\u001b[0m                   ^\u001b[0m\n\u001b[0;31mSyntaxError\u001b[0m\u001b[0;31m:\u001b[0m invalid syntax\n"
     ]
    }
   ],
   "source": [
    "# %%\n",
    "I =  np.row_stack([movesintervals, licksintervals])\n",
    "\n",
    "\n",
    "# %%\n",
    "\n",
    "#combine two intervals\n",
    "\n",
    "#first asses which of the two intervals should be used  first,\n",
    "# then write a function that you can call \n",
    "#setting input values for function\n",
    "intervals_x = movesintervals\n",
    "intervals_y = licksintervals\n",
    "# pandas does interval operations may be able to do this fast using it \n",
    "# https://pandas.pydata.org/docs/reference/api/pandas.arrays.IntervalArray.html\n",
    "## this package may work https://piso.readthedocs.io/en/latest/\n",
    "# make the intervals disjoint intervals then just take the union of them\n",
    " # interval index from arrays https://pandas.pydata.org/pandas-docs/stable/reference/api/pandas.IntervalIndex.from_arrays.html#pandas.IntervalIndex.from_arrays\n",
    " # then we \n",
    "\n",
    "# bind the two arrays, turn them into an index, then run piso.union\n",
    "import piso\n",
    "\n",
    "\n",
    "\n",
    "t = 0 #overall counter to check if there are itnervals to include\n",
    "i = 0 # counter for X intervals\n",
    "j = 0 # counter for Y intervals\n",
    "in_bounds = True # variable that assesess if we have reached end of\n",
    "# our intervals\n",
    "while in_bounds:\n",
    "    in_bounds = (t =< len(interval_x) ) | (t =< len(interval_y) ) \n",
    "    t = t + 1\n",
    "\n",
    "    #another while loop?  until no more overlaps?\n",
    "\n",
    "    neighbourhood_X = intervals_x[i, :]\n",
    "\n",
    "    neighbourhood_Y = intervals_y[j, :]\n",
    "\n",
    "    \n",
    "\n",
    "\n",
    "\n",
    "\n",
    "if intervals_x[0,0] < intervals_y[0,0]:\n",
    "    earliest_time = intervals_x[0,0]\n",
    "else:\n",
    "    earliest_time = intervals_y[0,0]\n",
    "\n",
    "for i in intervals_x[:,0]:\n",
    "    i > earliest_time\n",
    "\n",
    "\n",
    "np.argmin(np.where(intervals_y == earliest_time))\n",
    "\n",
    "        #y first\n",
    "#need a funciton that just checks within the interval until it\n",
    "# finds an end value that is not within the interval\n",
    "\n",
    "\n",
    "# %%\n",
    "\n",
    "start = timeit.timeit()\n",
    "P = kreg.make_toeplitz_matrix(session = 'Theiler_2017-10-11', \n",
    "                     bin_size = 0.005, \n",
    "                     kernels = [True, True, True],\n",
    "                     select_trials=np.array([4,5,6,7])\n",
    "                     )\n",
    "end= timeit.timeit()\n",
    "print(start-end)\n",
    "\n",
    "\n",
    "\n",
    "import KernelRegDraft as kreg\n",
    "start = timeit.timeit()\n",
    "# only use these clusters includes first 10 clusters in clusters_idx that pass quality\n",
    "Y, clusters_index = kreg.frequency_array(session = 'Theiler_2017-10-11', \n",
    "                                    bin_size = 0.005, \n",
    "                                    only_use_these_clusters=[ 3,  4, 7],\n",
    "                                    select_trials = np.array([4,5,6,7])\n",
    "                                    )\n",
    "end= timeit.timeit()\n",
    "print(start-end)\n",
    "\n",
    "pathforus = os.fspath(r'C:\\Users\\angus\\Desktop\\SteinmetzLab\\9598406\\spikeAndBehavioralData\\allData')\n",
    "\n",
    "trialstest = stein.calldata('Theiler_2017-10-11', ['trials.intervals.npy',\n",
    "                                      'trials.included.npy'],\n",
    "                steinmetzpath=pathforus)\n",
    "\n",
    "#select_these = np.array([4,5,6,7])\n",
    "select_these = []\n",
    "\n",
    "if len(select_these)!=0:\n",
    "    trialsincludedtest = select_these\n",
    "elif True:   #filter by engagement\n",
    "    trialsincludedtest = trialstest['trialsincluded']\n",
    "\n",
    "[ i for i in range(0,len(trialsincluded)) if trialsincluded[i]]\n",
    "\n",
    "trialsintervalstest = trialstest['trialsintervals']\n",
    "trialsintervalstest = trialsintervalstest[trialsincludedtest,:]\n",
    "\n",
    "trialsintervalstest = trialstest['trialsintervals']\n",
    "trialsintervalstest = trialsintervalstest[trialsincludedtest.reshape(trialsintervalstest.shape),:]\n",
    "\n",
    "\n",
    "#again with more cl\"usters, \n",
    "\"\"\"\n",
    "Fixed the last error but now it's printing out the clusters for some weird reason'\n",
    "\n",
    "\n",
    "\"\"\"\n",
    "start = timeit.timeit()\n",
    "# only use these clusters includes first 10 clusters in clusters_idx that pass quality\n",
    "Y, clusters_index = kreg.frequency_array(session = 'Theiler_2017-10-11', \n",
    "                                    bin_size = 0.005, \n",
    "                                    only_use_these_clusters=[ 3,  4,  7,  9, 12, 14, 16, 17, 18, 19]\n",
    "                                    )\n",
    "end= timeit.timeit()\n",
    "print(start-end)\n",
    "\n",
    "### Making b\n",
    "# CCA between P and Y to get b\n",
    "sklearn.cross_decomposition.CCA(n_components=2, *, \n",
    "                                scale=True, \n",
    "                                max_iter=500, \n",
    "                                tol=1e-06, \n",
    "                                copy=True)\n",
    "#Test\n",
    "from sklearn.cross_decomposition import CCA\n",
    "\n",
    "#could use make regression to simulate data\n",
    "#X, y = make_regression(n_features=2, random_state=0)\n",
    "\n",
    "Xtest = [[0., 0., 1.], [1.,0.,0.], [2.,2.,2.], [3.,5.,4.]]\n",
    "Ytest = [[0.1, -0.2], [0.9, 1.1], [6.2, 5.9], [11.9, 12.3]]\n",
    "cca = CCA(n_components=2)\n",
    "cca.fit(Xtest, Ytest)\n",
    "CCA(n_components=2)\n",
    "X_c, Y_c = cca.transform(Xtest, Ytest)\n",
    "\n",
    "\n",
    "# run the regression\n",
    "from sklearn.linear_model import ElasticNetCV\n",
    "from sklearn.datasets import make_regression\n",
    "\n",
    "Ytest = np.array(Ytest)\n",
    "for n in range(0, Ytest.shape[0]):\n",
    "    print(n)\n",
    "    y = Ytest[n,:]\n",
    "    #X_c, y = make_regression(n_features=2, random_state=0)\n",
    "    regr = ElasticNetCV(cv=5, random_state=0)\n",
    "    regr.fit(X_c, y)\n",
    "\n",
    "\n",
    "\n",
    "\n",
    "#https://scikit-learn.org/stable/modules/generated/sklearn.cross_decomposition.CCA.html\n",
    "#https://scikit-learn.org/stable/modules/generated/sklearn.linear_model.ElasticNetCV.html\n",
    "\n",
    "\n",
    "import seaborn as sns\n",
    "\n",
    "sns.heatmap(P)"
   ]
  },
  {
   "cell_type": "code",
   "execution_count": 7,
   "id": "db472771-2b7b-45f2-b61e-197c01de60bb",
   "metadata": {},
   "outputs": [
    {
     "name": "stdout",
     "output_type": "stream",
     "text": [
      "/home/wintermute/anaconda3/envs/stein-env/bin/python\n"
     ]
    }
   ],
   "source": [
    "!which python"
   ]
  },
  {
   "cell_type": "code",
   "execution_count": 8,
   "id": "7d55084c-ae2f-499b-a7fa-869b2071d1ec",
   "metadata": {},
   "outputs": [
    {
     "ename": "FileNotFoundError",
     "evalue": "[Errno 2] No such file or directory: 'C:/Users/angus/Desktop/SteinmetzLab/Analysis'",
     "output_type": "error",
     "traceback": [
      "\u001b[0;31m---------------------------------------------------------------------------\u001b[0m",
      "\u001b[0;31mFileNotFoundError\u001b[0m                         Traceback (most recent call last)",
      "Input \u001b[0;32mIn [8]\u001b[0m, in \u001b[0;36m<cell line: 1>\u001b[0;34m()\u001b[0m\n\u001b[0;32m----> 1\u001b[0m \u001b[38;5;28;01mimport\u001b[39;00m \u001b[38;5;21;01mKernelRegDraft\u001b[39;00m \u001b[38;5;28;01mas\u001b[39;00m \u001b[38;5;21;01mkreg\u001b[39;00m\n\u001b[1;32m      2\u001b[0m start \u001b[38;5;241m=\u001b[39m timeit\u001b[38;5;241m.\u001b[39mtimeit()\n\u001b[1;32m      3\u001b[0m \u001b[38;5;66;03m# only use these clusters includes first 10 clusters in clusters_idx that pass quality\u001b[39;00m\n",
      "File \u001b[0;32m/mnt/c/Users/angus/Desktop/SteinmetzLab/Analysis/KernelRegDraft.py:39\u001b[0m, in \u001b[0;36m<module>\u001b[0;34m\u001b[0m\n\u001b[1;32m     37\u001b[0m \u001b[38;5;28;01mimport\u001b[39;00m \u001b[38;5;21;01mtimeit\u001b[39;00m \u001b[38;5;66;03m#for testing and tracking run times\u001b[39;00m\n\u001b[1;32m     38\u001b[0m \u001b[38;5;28;01mimport\u001b[39;00m \u001b[38;5;21;01mscipy\u001b[39;00m\u001b[38;5;21;01m.\u001b[39;00m\u001b[38;5;21;01mstats\u001b[39;00m \n\u001b[0;32m---> 39\u001b[0m \u001b[43mos\u001b[49m\u001b[38;5;241;43m.\u001b[39;49m\u001b[43mchdir\u001b[49m\u001b[43m(\u001b[49m\u001b[38;5;124;43m'\u001b[39;49m\u001b[38;5;124;43mC:/Users/angus/Desktop/SteinmetzLab/Analysis\u001b[39;49m\u001b[38;5;124;43m'\u001b[39;49m\u001b[43m)\u001b[49m\n\u001b[1;32m     40\u001b[0m \u001b[38;5;28;01mimport\u001b[39;00m \u001b[38;5;21;01mgetSteinmetz2019data\u001b[39;00m \u001b[38;5;28;01mas\u001b[39;00m \u001b[38;5;21;01mstein\u001b[39;00m\n\u001b[1;32m     41\u001b[0m \u001b[38;5;28;01mimport\u001b[39;00m \u001b[38;5;21;01mwarnings\u001b[39;00m\n",
      "\u001b[0;31mFileNotFoundError\u001b[0m: [Errno 2] No such file or directory: 'C:/Users/angus/Desktop/SteinmetzLab/Analysis'"
     ]
    }
   ],
   "source": [
    "import KernelRegDraft as kreg\n",
    "start = timeit.timeit()\n",
    "# only use these clusters includes first 10 clusters in clusters_idx that pass quality\n",
    "Y, clusters_index = kreg.frequency_array(session = 'Theiler_2017-10-11', \n",
    "                                    bin_size = 0.005, \n",
    "                                    only_use_these_clusters=[ 3,  4, 7],\n",
    "                                    select_trials = np.array([4,5,6,7])\n",
    "                                    )\n",
    "end= timeit.timeit()\n",
    "print(start-end)"
   ]
  },
  {
   "cell_type": "code",
   "execution_count": 26,
   "id": "879ab7aa-face-43fb-8506-48135484f1c9",
   "metadata": {},
   "outputs": [
    {
     "name": "stdout",
     "output_type": "stream",
     "text": [
      "Cori_2016-12-14\n",
      "Cori_2016-12-14.tar\n",
      "Cori_2016-12-14_M2_g0_t0.imec.lf.timestamps.npy\n",
      "Cori_2016-12-14_V1_g0_t0.imec.lf.timestamps.npy\n",
      "Cori_2016-12-17\n",
      "Cori_2016-12-17.tar\n",
      "Cori_2016-12-17_LM_g0_t0.imec.lf.timestamps.npy\n",
      "Cori_2016-12-17_PM_g0_t0.imec.lf.timestamps.npy\n",
      "Cori_2016-12-18\n",
      "Cori_2016-12-18.tar\n",
      "Cori_2016-12-18_AM_g0_t0.imec.lf.timestamps.npy\n",
      "Cori_2016-12-18_V1_g0_t0.imec.lf.timestamps.npy\n",
      "Forssmann_2017-11-01\n",
      "Forssmann_2017-11-01.tar\n",
      "Forssmann_2017-11-01_K1_g0_t0.imec.lf.timestamps.npy\n",
      "Forssmann_2017-11-01_K2_g0_t0.imec.lf.timestamps.npy\n",
      "Forssmann_2017-11-01_K3_g0_t0.imec.lf.timestamps.npy\n",
      "Forssmann_2017-11-02\n",
      "Forssmann_2017-11-02.tar\n",
      "Forssmann_2017-11-02_K1_g0_t0.imec.lf.timestamps.npy\n",
      "Forssmann_2017-11-02_K2_g0_t0.imec.lf.timestamps.npy\n",
      "Forssmann_2017-11-02_K3_g0_t0.imec.lf.timestamps.npy\n",
      "Forssmann_2017-11-04\n",
      "Forssmann_2017-11-04.tar\n",
      "Forssmann_2017-11-04_K1_g0_t0.imec.lf.timestamps.npy\n",
      "Forssmann_2017-11-04_K2_g0_t0.imec.lf.timestamps.npy\n",
      "Forssmann_2017-11-04_K3_g0_t0.imec.lf.timestamps.npy\n",
      "Forssmann_2017-11-05\n",
      "Forssmann_2017-11-05.tar\n",
      "Forssmann_2017-11-05_K1_g0_t0.imec.lf.timestamps.npy\n",
      "Forssmann_2017-11-05_K3_g0_t0.imec.lf.timestamps.npy\n",
      "Hench_2017-06-15\n",
      "Hench_2017-06-15.tar\n",
      "Hench_2017-06-15_K1_g0_t0.imec.lf.timestamps.npy\n",
      "Hench_2017-06-15_K2_g0_t0.imec.lf.timestamps.npy\n",
      "Hench_2017-06-15_K3_g1_t0.imec.lf.timestamps.npy\n",
      "Hench_2017-06-16\n",
      "Hench_2017-06-16.tar\n",
      "Hench_2017-06-16_K1_g0_t0.imec.lf.timestamps.npy\n",
      "Hench_2017-06-16_K2_g0_t0.imec.lf.timestamps.npy\n",
      "Hench_2017-06-16_K3_g1_t0.imec.lf.timestamps.npy\n",
      "Hench_2017-06-17\n",
      "Hench_2017-06-17.tar\n",
      "Hench_2017-06-17_K1_g1_t0.imec.lf.timestamps.npy\n",
      "Hench_2017-06-17_K2_g0_t0.imec.lf.timestamps.npy\n",
      "Hench_2017-06-17_K3_g0_t0.imec.lf.timestamps.npy\n",
      "Hench_2017-06-18\n",
      "Hench_2017-06-18.tar\n",
      "Hench_2017-06-18_K1_g0_t0.imec.lf.timestamps.npy\n",
      "Hench_2017-06-18_K2_g0_t0.imec.lf.timestamps.npy\n",
      "Hench_2017-06-18_K3_g0_t0.imec.lf.timestamps.npy\n",
      "Lederberg_2017-12-05.tar\n",
      "Lederberg_2017-12-05_K1_g0_t0.imec.lf.timestamps.npy\n",
      "Lederberg_2017-12-05_K2_g0_t0.imec.lf.timestamps.npy\n",
      "Lederberg_2017-12-05_K3_g0_t0.imec.lf.timestamps.npy\n",
      "Lederberg_2017-12-06\n",
      "Lederberg_2017-12-06.tar\n",
      "Lederberg_2017-12-06_K1_g0_t0.imec.lf.timestamps.npy\n",
      "Lederberg_2017-12-06_K2_g0_t0.imec.lf.timestamps.npy\n",
      "Lederberg_2017-12-06_K3_g0_t0.imec.lf.timestamps.npy\n",
      "Lederberg_2017-12-07\n",
      "Lederberg_2017-12-07.tar\n",
      "Lederberg_2017-12-07_K1_g0_t0.imec.lf.timestamps.npy\n",
      "Lederberg_2017-12-07_K2_g0_t0.imec.lf.timestamps.npy\n",
      "Lederberg_2017-12-07_K3_g0_t0.imec.lf.timestamps.npy\n",
      "Lederberg_2017-12-08\n",
      "Lederberg_2017-12-08.tar\n",
      "Lederberg_2017-12-08_K1_g0_t0.imec.lf.timestamps.npy\n",
      "Lederberg_2017-12-08_K3_g0_t0.imec.lf.timestamps.npy\n",
      "Lederberg_2017-12-09\n",
      "Lederberg_2017-12-09.tar\n",
      "Lederberg_2017-12-09_K2_g0_t0.imec.lf.timestamps.npy\n",
      "Lederberg_2017-12-09_K3_g0_t0.imec.lf.timestamps.npy\n",
      "Lederberg_2017-12-10\n",
      "Lederberg_2017-12-10.tar\n",
      "Lederberg_2017-12-10_K1_g0_t0.imec.lf.timestamps.npy\n",
      "Lederberg_2017-12-11\n",
      "Lederberg_2017-12-11.tar\n",
      "Lederberg_2017-12-11_K2_g0_t0.imec.lf.timestamps.npy\n",
      "Lederberg_2017-12-11_K3_g0_t0.imec.lf.timestamps.npy\n",
      "Moniz_2017-05-15\n",
      "Moniz_2017-05-15.tar\n",
      "Moniz_2017-05-15_AM_g0_t0.imec.lf.timestamps.npy\n",
      "Moniz_2017-05-15_PM_g1_t0.imec.lf.timestamps.npy\n",
      "Moniz_2017-05-16\n",
      "Moniz_2017-05-16.tar\n",
      "Moniz_2017-05-16_A_g0_t0.imec.lf.timestamps.npy\n",
      "Moniz_2017-05-16_V1_g1_t0.imec.lf.timestamps.npy\n",
      "Moniz_2017-05-18.tar\n",
      "Moniz_2017-05-18_M1_g0_t0.imec.lf.timestamps.npy\n",
      "Moniz_2017-05-18_S1_g0_t0.imec.lf.timestamps.npy\n",
      "Muller_2017-01-07\n",
      "Muller_2017-01-07.tar\n",
      "Muller_2017-01-07_M2_g0_t0.imec.lf.timestamps.npy\n",
      "Muller_2017-01-07_V1_g0_t0.imec.lf.timestamps.npy\n",
      "Muller_2017-01-08\n",
      "Muller_2017-01-08.tar\n",
      "Muller_2017-01-08_AM_g1_t0.imec.lf.timestamps.npy\n",
      "Muller_2017-01-08_M2_g0_t0.imec.lf.timestamps.npy\n",
      "Muller_2017-01-09\n",
      "Muller_2017-01-09.tar\n",
      "Muller_2017-01-09_LM_g0_t0.imec.lf.timestamps.npy\n",
      "Muller_2017-01-09_PM_g1_t0.imec.lf.timestamps.npy\n",
      "Radnitz_2017-01-08\n",
      "Radnitz_2017-01-08.tar\n",
      "Radnitz_2017-01-08_M2_g0_t0.imec.lf.timestamps.npy\n",
      "Radnitz_2017-01-08_V1_g1_t0.imec.lf.timestamps.npy\n",
      "Radnitz_2017-01-09\n",
      "Radnitz_2017-01-09.tar\n",
      "Radnitz_2017-01-09_M2_g0_t0.imec.lf.timestamps.npy\n",
      "Radnitz_2017-01-09_V1_g1_t0.imec.lf.timestamps.npy\n",
      "Radnitz_2017-01-10\n",
      "Radnitz_2017-01-10.tar\n",
      "Radnitz_2017-01-10_AM_g1_t0.imec.lf.timestamps.npy\n",
      "Radnitz_2017-01-10_M2_g0_t0.imec.lf.timestamps.npy\n",
      "Radnitz_2017-01-11\n",
      "Radnitz_2017-01-11.tar\n",
      "Radnitz_2017-01-11_PM_g1_t0.imec.lf.timestamps.npy\n",
      "Radnitz_2017-01-11_RSP_g0_t0.imec.lf.timestamps.npy\n",
      "Radnitz_2017-01-12\n",
      "Radnitz_2017-01-12.tar\n",
      "Radnitz_2017-01-12_M1_g0_t0.imec.lf.timestamps.npy\n",
      "Radnitz_2017-01-12_S1_g0_t0.imec.lf.timestamps.npy\n",
      "Richards_2017-10-29\n",
      "Richards_2017-10-29.tar\n",
      "Richards_2017-10-29_K1_g0_t0.imec.lf.timestamps.npy\n",
      "Richards_2017-10-29_K2_g0_t0.imec.lf.timestamps.npy\n",
      "Richards_2017-10-29_K3_g0_t0.imec.lf.timestamps.npy\n",
      "Richards_2017-10-30\n",
      "Richards_2017-10-30.tar\n",
      "Richards_2017-10-30_K2_g0_t0.imec.lf.timestamps.npy\n",
      "Richards_2017-10-30_K3_g0_t0.imec.lf.timestamps.npy\n",
      "Richards_2017-10-31\n",
      "Richards_2017-10-31.tar\n",
      "Richards_2017-10-31_K1_g0_t0.imec.lf.timestamps.npy\n",
      "Richards_2017-10-31_K3_g0_t0.imec.lf.timestamps.npy\n",
      "Richards_2017-11-01\n",
      "Richards_2017-11-01.tar\n",
      "Richards_2017-11-01_K1_g0_t0.imec.lf.timestamps.npy\n",
      "Richards_2017-11-01_K3_g0_t0.imec.lf.timestamps.npy\n",
      "Richards_2017-11-02\n",
      "Richards_2017-11-02.tar\n",
      "Richards_2017-11-02_K1_g0_t0.imec.lf.timestamps.npy\n",
      "Richards_2017-11-02_K3_g0_t0.imec.lf.timestamps.npy\n",
      "Tatum_2017-12-06\n",
      "Tatum_2017-12-06.tar\n",
      "Tatum_2017-12-06_K1_g0_t0.imec.lf.timestamps.npy\n",
      "Tatum_2017-12-06_K2_g0_t0.imec.lf.timestamps.npy\n",
      "Tatum_2017-12-06_K3_g0_t0.imec.lf.timestamps.npy\n",
      "Tatum_2017-12-07\n",
      "Tatum_2017-12-07.tar\n",
      "Tatum_2017-12-07_K1_g0_t0.imec.lf.timestamps.npy\n",
      "Tatum_2017-12-07_K2_g0_t0.imec.lf.timestamps.npy\n",
      "Tatum_2017-12-07_K3_g0_t0.imec.lf.timestamps.npy\n",
      "Tatum_2017-12-08\n",
      "Tatum_2017-12-08.tar\n",
      "Tatum_2017-12-08_K1_g0_t0.imec.lf.timestamps.npy\n",
      "Tatum_2017-12-08_K2_g0_t0.imec.lf.timestamps.npy\n",
      "Tatum_2017-12-08_K3_g0_t0.imec.lf.timestamps.npy\n",
      "Tatum_2017-12-09\n",
      "Tatum_2017-12-09.tar\n",
      "Tatum_2017-12-09_K1_g0_t0.imec.lf.timestamps.npy\n",
      "Tatum_2017-12-09_K3_g0_t0.imec.lf.timestamps.npy\n",
      "Theiler_2017-10-11\n",
      "Theiler_2017-10-11.tar\n",
      "Theiler_2017-10-11_K1_g0_t0.imec.lf.timestamps.npy\n",
      "Theiler_2017-10-11_K2_g0_t0.imec.lf.timestamps.npy\n",
      "Theiler_2017-10-11_K3_g0_t0.imec.lf.timestamps.npy\n"
     ]
    }
   ],
   "source": [
    "!ls ../9598406/spikeAndBehavioralData/allData/"
   ]
  },
  {
   "cell_type": "code",
   "execution_count": 14,
   "id": "33e3dbb6-0f73-4583-9f92-fc371e2c7ec0",
   "metadata": {},
   "outputs": [],
   "source": [
    "import numpy as np"
   ]
  },
  {
   "cell_type": "code",
   "execution_count": 15,
   "id": "7fb52586-92f3-47a7-80b9-dc7e0341cff1",
   "metadata": {},
   "outputs": [],
   "source": [
    "import KernelRegDraft as kreg\n"
   ]
  },
  {
   "cell_type": "code",
   "execution_count": 19,
   "id": "697e2453-3528-4745-adf1-113a4bf21fdd",
   "metadata": {},
   "outputs": [
    {
     "name": "stdout",
     "output_type": "stream",
     "text": [
      "# conda environments:\n",
      "#\n",
      "base                     /home/wintermute/anaconda3\n",
      "brainpainterEnv          /home/wintermute/anaconda3/envs/brainpainterEnv\n",
      "stein-env             *  /home/wintermute/anaconda3/envs/stein-env\n",
      "                         /home/wintermute/anaconda_ete\n",
      "\n"
     ]
    }
   ],
   "source": [
    "%%bash\n",
    "conda env list"
   ]
  },
  {
   "cell_type": "code",
   "execution_count": null,
   "id": "c31b27f2-db1e-4abb-b149-24617b6006d8",
   "metadata": {},
   "outputs": [],
   "source": []
  }
 ],
 "metadata": {
  "kernelspec": {
   "display_name": "Python 3 (ipykernel)",
   "language": "python",
   "name": "python3"
  },
  "language_info": {
   "codemirror_mode": {
    "name": "ipython",
    "version": 3
   },
   "file_extension": ".py",
   "mimetype": "text/x-python",
   "name": "python",
   "nbconvert_exporter": "python",
   "pygments_lexer": "ipython3",
   "version": "3.10.4"
  }
 },
 "nbformat": 4,
 "nbformat_minor": 5
}
