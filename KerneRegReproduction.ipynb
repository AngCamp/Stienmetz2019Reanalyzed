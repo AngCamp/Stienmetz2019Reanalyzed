{
 "cells": [
  {
   "cell_type": "markdown",
   "metadata": {},
   "source": [
    "Reproducing the steinmtz og experimetn just to test my own code for doing the SWR analysis."
   ]
  },
  {
   "cell_type": "code",
   "execution_count": 1,
   "metadata": {},
   "outputs": [],
   "source": [
    "import os\n",
    "import numpy as np\n",
    "import pandas as pd\n",
    "from math import ceil\n",
    "from math import floor\n",
    "import scipy.ndimage\n",
    "import timeit #for testing and tracking run times\n",
    "import scipy.stats \n"
   ]
  },
  {
   "cell_type": "code",
   "execution_count": 11,
   "metadata": {},
   "outputs": [],
   "source": [
    "import getSteinmetz2019data as stein\n",
    "import warnings\n",
    "import KernelRegDraft as kreg\n",
    "import sklearn\n",
    "\n",
    "#path on Angus Laptop\n",
    "# path_to_data = os.fspath(r'C:\\Users\\angus\\Desktop\\SteinmetzLab\\9598406\\spikeAndBehavioralData\\allData\\')\n",
    "#for path on the NINC desktop\n",
    "path_to_data =  os.fspath(r'/home/ninc-user/Desktop/9598406/spikeAndBehavioralData/allData/')"
   ]
  },
  {
   "cell_type": "code",
   "execution_count": 12,
   "metadata": {},
   "outputs": [
    {
     "data": {
      "text/plain": [
       "'/home/ninc-user/Desktop/Stienmetz2019Reanalyzed'"
      ]
     },
     "execution_count": 12,
     "metadata": {},
     "output_type": "execute_result"
    }
   ],
   "source": [
    "pwd"
   ]
  },
  {
   "cell_type": "code",
   "execution_count": 13,
   "metadata": {},
   "outputs": [
    {
     "name": "stdout",
     "output_type": "stream",
     "text": [
      "-0.0016631369944661856\n"
     ]
    }
   ],
   "source": [
    "start = timeit.timeit()\n",
    "#These trials selected because they contain all types of choices, left 2 rights then a no go\n",
    "# [4,5,6,7]\n",
    "\n",
    "#test this fucntion out\n",
    "#note steinmetz mthods uses P and X interchanably so\n",
    "# I thought ti would be appropriate here\n",
    "\n",
    "P = kreg.make_toeplitz_matrix(session = 'Theiler_2017-10-11', \n",
    "                     bin_size = 0.005, \n",
    "                     kernels = [True, True, True],\n",
    "                     filepath = path_to_data,\n",
    "                     select_trials=np.array([4,5,6,7])\n",
    "                     )\n",
    "\n",
    "\n",
    "end= timeit.timeit()\n",
    "print(start-end)"
   ]
  }
 ],
 "metadata": {
  "interpreter": {
   "hash": "7c7566693de33e5a8f2fce57ba78b58cd00f3cc3d5af62dde1d383d09c50882b"
  },
  "kernelspec": {
   "display_name": "Python 3.9.7 ('base')",
   "language": "python",
   "name": "python3"
  },
  "language_info": {
   "codemirror_mode": {
    "name": "ipython",
    "version": 3
   },
   "file_extension": ".py",
   "mimetype": "text/x-python",
   "name": "python",
   "nbconvert_exporter": "python",
   "pygments_lexer": "ipython3",
   "version": "3.10.0"
  },
  "orig_nbformat": 4
 },
 "nbformat": 4,
 "nbformat_minor": 2
}
